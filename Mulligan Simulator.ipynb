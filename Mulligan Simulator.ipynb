{
 "cells": [
  {
   "cell_type": "code",
   "execution_count": 1,
   "metadata": {
    "collapsed": true
   },
   "outputs": [],
   "source": [
    "import random"
   ]
  },
  {
   "cell_type": "code",
   "execution_count": 2,
   "metadata": {
    "collapsed": true
   },
   "outputs": [],
   "source": [
    "from matplotlib import pyplot as plt\n",
    "%matplotlib inline"
   ]
  },
  {
   "cell_type": "code",
   "execution_count": 3,
   "metadata": {
    "collapsed": true
   },
   "outputs": [],
   "source": [
    "import seaborn as sns"
   ]
  },
  {
   "cell_type": "code",
   "execution_count": 4,
   "metadata": {
    "collapsed": true
   },
   "outputs": [],
   "source": [
    "class Card():\n",
    "    def __init__(self, value, provisions = None, thins = False):\n",
    "        self.value = value\n",
    "        if provisions == None:\n",
    "            self.provisions = value\n",
    "        else:\n",
    "            self.provisions = provisions\n",
    "        self.thins = thins"
   ]
  },
  {
   "cell_type": "code",
   "execution_count": 5,
   "metadata": {
    "collapsed": true
   },
   "outputs": [],
   "source": [
    "def drawHand(deck, cardsToDraw):\n",
    "    deck = deck[:]\n",
    "    hand = []\n",
    "    for card in range(cardsToDraw):\n",
    "        hand.append(deck.pop())\n",
    "    return (hand, deck)\n",
    "\n",
    "def drawMore(trialDeck, cardsToDraw, hand):\n",
    "    for card in range(cardsToDraw):\n",
    "        hand.append(trialDeck.pop())\n",
    "        \n",
    "def thin(trialDeck):\n",
    "    for card in trialDeck[::]:\n",
    "        if card.thins:\n",
    "            trialDeck.remove(card)"
   ]
  },
  {
   "cell_type": "code",
   "execution_count": 14,
   "metadata": {
    "collapsed": true
   },
   "outputs": [],
   "source": [
    "def initialMulligans(trialDeck, hand, mulls, mulliganCount):\n",
    "    mullTaken = False\n",
    "    for i in range(mulliganCount):\n",
    "        for card in hand[::]:\n",
    "            if card.thins == True and len(mulls) < mulliganCount and len(trialDeck) != 0:\n",
    "                mullTaken=True\n",
    "                hand.remove(card)\n",
    "                mulls.append(card)\n",
    "                hand.append(trialDeck.pop())\n",
    "                \n",
    "    if mullTaken == True and len(mulls) < mulliganCount:\n",
    "        initialMulligans(trialDeck, hand, mulls, mulliganCount)\n",
    "        \n",
    "def finalMulligans(trialDeck, hand, mulls, mulliganCount):\n",
    "    while mulliganCount > len(mulls) and len(trialDeck) != 0:\n",
    "        if (float(sum([x.value for x in trialDeck]) / len(trialDeck))) > min(hand, key=lambda x: x.value).value:\n",
    "            mulled = min(hand, key=lambda x: x.value)\n",
    "            mulls.append(mulled)\n",
    "            hand.remove(mulled)\n",
    "            \n",
    "            hand.append(trialDeck.pop())\n",
    "        else:\n",
    "            break\n",
    "def runMulliganTrial(deck, mulliganCount):\n",
    "    mulls = []\n",
    "    thinValue = sum([x.value for x in deck if x.thins == True])\n",
    "    random.shuffle(deck)\n",
    "    hand, trialDeck = drawHand(deck, 10)\n",
    "    \n",
    "    #just so I stop referencing deck when I mean to reference trialDeck. This caused like 3 different bugs.\n",
    "    deck = None\n",
    "    \n",
    "    initialMulligans(trialDeck, hand, mulls, mulliganCount)\n",
    "    thin(trialDeck)\n",
    "    drawMore(trialDeck, 6, hand)\n",
    "    handStrengthBefore = sum([x.value for x in hand])\n",
    "    finalMulligans(trialDeck, hand, mulls, mulliganCount)\n",
    "                \n",
    "\n",
    "            \n",
    "    deckStrength = sum([x.value for x in trialDeck]) + sum([x.value for x in mulls])\n",
    "    handStrengthAfter = sum([x.value for x in hand])\n",
    "    \n",
    "    #any thinning cards leftover shouldn't be double counted, and we already counted their value above\n",
    "    thinValue -= sum(x.value for x in hand if x.thins == True) \n",
    "    handStrengthAfter += thinValue\n",
    "    return (handStrengthBefore, handStrengthAfter, deckStrength)"
   ]
  },
  {
   "cell_type": "code",
   "execution_count": 15,
   "metadata": {
    "collapsed": true
   },
   "outputs": [],
   "source": [
    "def gatherSamples(deck, mulliganCount, sampleSize):\n",
    "    differences = []\n",
    "    afters = []\n",
    "    leftovers = []\n",
    "    for i in range(sampleSize):\n",
    "        before, after, deckStrength = runMulliganTrial(deck, mulliganCount)\n",
    "        afters.append(after)\n",
    "        differences.append(after - before)\n",
    "        leftovers.append(deckStrength)\n",
    "    return (differences, afters, leftovers)"
   ]
  },
  {
   "cell_type": "code",
   "execution_count": 16,
   "metadata": {
    "collapsed": true
   },
   "outputs": [],
   "source": [
    "def runExperiment(deck, numMulls, deckName, graph = False):\n",
    "    differences, afters, leftovers = gatherSamples(deck, numMulls, 10000)\n",
    "    \n",
    "    avgGain = sum(differences) / len(differences)\n",
    "    if numMulls != 0:\n",
    "        avgGainPerMull = avgGain / numMulls\n",
    "    else:\n",
    "        avgGainPerMull = 0\n",
    "    avgStrength = sum(afters) / len(afters)\n",
    "    avgLeftovers = sum(leftovers) / len(leftovers)\n",
    "    print(f\"{numMulls} mulligans, {deckName}\")\n",
    "    print(f\"average gain: {avgGain}\")\n",
    "    print(f\"average gain per mulligan: {avgGainPerMull}\")\n",
    "    print(f\"average value after mulligans:{avgStrength}\")\n",
    "    if graph:\n",
    "        sns.countplot([int(x / 3) * 3 for x in afters])\n",
    "    print(f\"average value left in deck: {avgLeftovers}\")\n",
    "    print(\"\")"
   ]
  },
  {
   "cell_type": "markdown",
   "metadata": {},
   "source": [
    "## That's it for the baseline code, the following is going to be the various experiments.\n",
    "\n",
    "#### Reading Decks\n",
    "\n",
    "The part \"([Card(4)] * 5)\" should be read as, \"add 5 cards to the deck that cost 4, and are worth 4 points.\" Similarly, \"([Card(5)] * 10)\" is \"add 10 cards to the deck that cost 5 and are worth 5 points.\" For the first example, this is all you need to know. However, there are a few more parameters that can be added to the Card constructor. \"Card(4, 5)\" would add a card to the deck that costs 5 provisions, but is only worth 4 points. \n",
    "\n",
    "There is one last parameter, and it simulates cards like Roach. \"Card(4, 10, True)\" adds a card that is worth 4, costs 10, but comes out of your deck for free in round 1. The \"True\" is the thinning parameter. If a card with thinning is in your deck after mulligans, it is removed from the deck and the points it would provide are added to your total. \n",
    "\n",
    "#### How this simulator works\n",
    "\n",
    "For each trial, 10 cards are initally drawn. An initial mulligan phase is taken to remove any cards that have thinning enabled, but no further mulligans are wasted. After this mulligan, all cards with thinning are removed from the deck, and their points are added to the total points played for the game. Finally, 6 more cards are drawn to simulate the round 2 and 3 draws, and finally mulligans are taken using a full 16 card hand, mulliganning the cheapest cards in hand as long as the average point value of a card in deck is worth more than the cheapest card in the hand. \n",
    "\n",
    "the \"Average value after mulligan\" result corresponds to the total number of points you have access to throughout the entire game. It's worth noting that this doesn't provide any kind of discount to cards dumped in earlier rounds where points don't matter as much, so take these numbers with a grain of salt, they're probably higher than you should expect unless you're doing something weird. In many cases these decks will go all game without \"playing\" a single 4 provision card. Imagine these numbers as going straight to round 3 with 16 cards in hand, and taking all your available mulligans there. \n",
    "\n",
    "The graph after the results shows the frequency distribution over the 10,000 trial runs of hands with a given point value, rounded to a multiple of 3 to limit the number of categories and make the graph readable. "
   ]
  },
  {
   "cell_type": "markdown",
   "metadata": {},
   "source": [
    "## The First Experiment\n",
    "\n",
    "The first deck we're going to look at is the following. \n",
    "\n",
    "([Card(4)] * 5) + ([Card(5)] * 10) + ([Card(9)] * 5) + ([Card(10)] * 5)\n",
    "\n",
    "a 25 card deck, with 165 total provisions as expected, and a simple distribution of values. \n",
    "\n",
    "First, we're going to look to see how the number of mulligans changes the expected point total. In this next cell, we're going to run a set of trials with 10,000 samples where the deck has 4 total mulligans. Then in the following cell, we have a similar set of trials, but this time with only a single mulligan."
   ]
  },
  {
   "cell_type": "code",
   "execution_count": 59,
   "metadata": {},
   "outputs": [
    {
     "name": "stdout",
     "output_type": "stream",
     "text": [
      "Total Provisions: 165\n",
      "Deck Size: 25\n",
      "\n",
      "4 mulligans, balanced deck\n",
      "average gain: 10.0094\n",
      "average gain per mulligan: 2.50235\n",
      "average value after mulligans:115.6445\n",
      "average value left in deck: 49.3555\n",
      "\n"
     ]
    },
    {
     "data": {
      "image/png": "[encoded data removed]",
      "text/plain": [
       "<matplotlib.figure.Figure at 0x2bfc27b3ac8>"
      ]
     },
     "metadata": {},
     "output_type": "display_data"
    }
   ],
   "source": [
    "deck = ([Card(4)] * 5) + ([Card(5)] * 10) + ([Card(9)] * 5) + ([Card(10)] * 5)\n",
    "print(f\"Total Provisions: %s\" % sum([x.provisions for x in deck]))\n",
    "print(f\"Deck Size: %s\\n\" % len(deck))\n",
    "\n",
    "runExperiment(deck, 4, \"balanced deck\", graph = True)"
   ]
  },
  {
   "cell_type": "code",
   "execution_count": 60,
   "metadata": {},
   "outputs": [
    {
     "name": "stdout",
     "output_type": "stream",
     "text": [
      "Total Provisions: 165\n",
      "Deck Size: 25\n",
      "\n",
      "1 mulligans, balanced deck\n",
      "average gain: 2.5849\n",
      "average gain per mulligan: 2.5849\n",
      "average value after mulligans:108.2271\n",
      "average value left in deck: 56.7729\n",
      "\n"
     ]
    },
    {
     "data": {
      "image/png": "[encoded data removed]",
      "text/plain": [
       "<matplotlib.figure.Figure at 0x2bfc06c32b0>"
      ]
     },
     "metadata": {},
     "output_type": "display_data"
    }
   ],
   "source": [
    "deck = ([Card(4)] * 5) + ([Card(5)] * 10) + ([Card(10)] * 5) + ([Card(9)] * 5)\n",
    "print(f\"Total Provisions: %s\" % sum([x.provisions for x in deck]))\n",
    "print(f\"Deck Size: %s\\n\" % len(deck))\n",
    "\n",
    "runExperiment(deck, 1, \"balanced deck\", graph=True)"
   ]
  },
  {
   "cell_type": "markdown",
   "metadata": {},
   "source": [
    "### Interpretation\n",
    "\n",
    "After 4 mulligans, the deck typically had access to 115 points, with a range of between ~93 - ~123, skewed towards the topend. The 4 mulligans ended up adding around 10 points to this total, making a mulligan worth about 2.5 points in that deck. \n",
    "\n",
    "In the deck with only a single mulligan, there was only an average of 108 total points, with a range between ~84 - ~123 with a distribution a bit more centralized. The mulligan on average added about 2.6 points to the hand, making this mulligan worth 2.6.\n",
    "\n",
    "This 2.6 number doesn't come out of nowhere. 2.6 is the difference between the minimum value for a card, 4, and the average value of a card in the deck, 165 / 25, or 6.6. Any time you mulligan a 4 while your deck still has a regular distribution in it, you'd expect to draw an average card from the deck, which improves your hand by 2.6 points. The reason why the deck with 4 mulligans gets slightly less value per mulligan, is that you can eventually run out of 4s to mulligan, and when you kick a 5, you're only gaining 1.6 value. Let's look at one simple example to drive this point home.\n",
    "\n",
    "### Mulligans with min(5)\n",
    "\n",
    "In this next deck we're going to cut all the 4s and just play 5s. Naturally, we need to make a trade on the topend, so we cut the 10s and turn them into 9s to keep the deck's total the same."
   ]
  },
  {
   "cell_type": "code",
   "execution_count": 48,
   "metadata": {},
   "outputs": [
    {
     "name": "stdout",
     "output_type": "stream",
     "text": [
      "Total Provisions: 165\n",
      "Deck Size: 25\n",
      "\n",
      "4 mulligans, Mull with min(5)\n",
      "average gain: 6.4568\n",
      "average gain per mulligan: 1.6142\n",
      "average value after mulligans:112.0232\n",
      "average value left in deck: 52.9768\n",
      "\n",
      "1 mulligans, Mull with min(5)\n",
      "average gain: 1.6208\n",
      "average gain per mulligan: 1.6208\n",
      "average value after mulligans:107.2116\n",
      "average value left in deck: 57.7884\n",
      "\n"
     ]
    }
   ],
   "source": [
    "deck = ([Card(5)] * 5) + ([Card(5)] * 10) + ([Card(9)] * 5) + ([Card(9)] * 5)\n",
    "print(f\"Total Provisions: %s\" % sum([x.provisions for x in deck]))\n",
    "print(f\"Deck Size: %s\\n\" % len(deck))\n",
    "\n",
    "runExperiment(deck, 4, \"Mull with min(5)\", graph=False)\n",
    "runExperiment(deck, 1, \"Mull with min(5)\", graph=False)"
   ]
  },
  {
   "cell_type": "markdown",
   "metadata": {},
   "source": [
    "And we get the results expected. Rather than 6.6 - 4, we're getting 6.6 - 5 as our average gain. Also, since there are twice as many 5s than there were 4s before, with 4 mulligans we still haven't hit the point of diminishing returns.\n",
    "\n",
    "### Extreme Decks\n",
    "\n",
    "In this next set, we're going to look at a deck with 10 6s, and 15 7s, the lowest variance 165 provision deck you can build. Then we'll look at a high variance version, with a mix of 12s and 4s.  "
   ]
  },
  {
   "cell_type": "code",
   "execution_count": 54,
   "metadata": {},
   "outputs": [
    {
     "name": "stdout",
     "output_type": "stream",
     "text": [
      "Total Provisions: 165\n",
      "Deck Size: 25\n",
      "\n",
      "4 mulligans, low variance\n",
      "average gain: 2.416\n",
      "average gain per mulligan: 0.604\n",
      "average value after mulligans:108.0051\n",
      "average value left in deck: 56.9949\n",
      "\n",
      "1 mulligans, low variance\n",
      "average gain: 0.6033\n",
      "average gain per mulligan: 0.6033\n",
      "average value after mulligans:106.1721\n",
      "average value left in deck: 58.8279\n",
      "\n"
     ]
    },
    {
     "data": {
      "image/png": "[encoded data removed]",
      "text/plain": [
       "<matplotlib.figure.Figure at 0x2bfc2794be0>"
      ]
     },
     "metadata": {},
     "output_type": "display_data"
    }
   ],
   "source": [
    "deck = ([Card(6)] * 10) + ([Card(7)] * 15)\n",
    "print(f\"Total Provisions: %s\" % sum([x.provisions for x in deck]))\n",
    "print(f\"Deck Size: %s\\n\" % len(deck))\n",
    "runExperiment(deck, 4, \"low variance\", graph=True)\n",
    "runExperiment(deck, 1, \"low variance\", graph=False)"
   ]
  },
  {
   "cell_type": "code",
   "execution_count": 58,
   "metadata": {},
   "outputs": [
    {
     "name": "stdout",
     "output_type": "stream",
     "text": [
      "Total Provisions: 165\n",
      "Deck Size: 25\n",
      "\n",
      "4 mulligans, high variance\n",
      "average gain: 10.3933\n",
      "average gain per mulligan: 2.598325\n",
      "average value after mulligans:116.0179\n",
      "average value left in deck: 48.9821\n",
      "\n",
      "1 mulligans, high variance\n",
      "average gain: 2.6373\n",
      "average gain per mulligan: 2.6373\n",
      "average value after mulligans:108.1699\n",
      "average value left in deck: 56.8301\n",
      "\n"
     ]
    },
    {
     "data": {
      "image/png": "[encoded data removed]",
      "text/plain": [
       "<matplotlib.figure.Figure at 0x2bfc3c98dd8>"
      ]
     },
     "metadata": {},
     "output_type": "display_data"
    }
   ],
   "source": [
    "deck = ([Card(4)] * 17) + ([Card(12)] * 7) + ([Card(13)] * 1)\n",
    "print(f\"Total Provisions: %s\" % sum([x.provisions for x in deck]))\n",
    "print(f\"Deck Size: %s\\n\" % len(deck))\n",
    "runExperiment(deck, 4, \"high variance\", graph=True)\n",
    "runExperiment(deck, 1, \"high variance\", graph=False)"
   ]
  },
  {
   "cell_type": "markdown",
   "metadata": {},
   "source": [
    "### Results\n",
    "\n",
    "Mulligans give a pretty huge drawback to having a more balanced deck. With no 4s to mulligan, all your mulligan value is essentially wasted. You lose the ability to even have high value cards in your hand, and most of the time you will be able to mulligan your 4s to improve the quality of your hand. Playing a balanced deck with no thinning to take advantage of mulligans is literally throwing points away, even with only a single mulligan.\n",
    "\n",
    "There is little difference between the \"balanced\" deck we used initially, and the high variance deck made up of only 4s and 12/13s. The range is a bit more wide, but the average is identical."
   ]
  },
  {
   "cell_type": "markdown",
   "metadata": {},
   "source": [
    "### Roach\n",
    "\n",
    "Okay, so all of the previous examples have been with no thinning at all, just draws and mulligans. What do these numbers look like if we add the simplest self-thinning card to the deck? The way this is going to work is explained more in the \"how this simulator works\" section above, so for now let's just look at the numbers. We're going to have a deck with a similar distribution as the first deck we looked at, but trading one of the 10s for a Roach."
   ]
  },
  {
   "cell_type": "code",
   "execution_count": 61,
   "metadata": {},
   "outputs": [
    {
     "name": "stdout",
     "output_type": "stream",
     "text": [
      "Total Provisions: 165\n",
      "Deck Size: 25\n",
      "\n",
      "4 mulligans, balanced deck + Roach\n",
      "average gain: 12.7014\n",
      "average gain per mulligan: 3.17535\n",
      "average value after mulligans:116.0055\n",
      "average value left in deck: 44.5985\n",
      "\n"
     ]
    },
    {
     "data": {
      "image/png": "[encoded data removed]",
      "text/plain": [
       "<matplotlib.figure.Figure at 0x2bfc3c22828>"
      ]
     },
     "metadata": {},
     "output_type": "display_data"
    }
   ],
   "source": [
    "deck = ([Card(4)] * 5) + ([Card(5)] * 10) + ([Card(10)] * 4) + ([Card(9)] * 5) + ([Card(4, 10, True)] * 1)\n",
    "print(f\"Total Provisions: %s\" % sum([x.provisions for x in deck]))\n",
    "print(f\"Deck Size: %s\\n\" % len(deck))\n",
    "\n",
    "runExperiment(deck, 4, \"balanced deck + Roach\", graph = True)"
   ]
  },
  {
   "cell_type": "code",
   "execution_count": 62,
   "metadata": {},
   "outputs": [
    {
     "name": "stdout",
     "output_type": "stream",
     "text": [
      "Total Provisions: 165\n",
      "Deck Size: 25\n",
      "\n",
      "1 mulligans, balanced deck + Roach\n",
      "average gain: 5.441\n",
      "average gain per mulligan: 5.441\n",
      "average value after mulligans:108.9214\n",
      "average value left in deck: 51.687\n",
      "\n"
     ]
    },
    {
     "data": {
      "image/png": "[encoded data removed]",
      "text/plain": [
       "<matplotlib.figure.Figure at 0x2bfc3b43ef0>"
      ]
     },
     "metadata": {},
     "output_type": "display_data"
    }
   ],
   "source": [
    "deck = ([Card(4)] * 5) + ([Card(5)] * 10) + ([Card(10)] * 4) + ([Card(9)] * 5) + ([Card(4, 10, True)] * 1)\n",
    "print(f\"Total Provisions: %s\" % sum([x.provisions for x in deck]))\n",
    "print(f\"Deck Size: %s\\n\" % len(deck))\n",
    "\n",
    "runExperiment(deck, 1, \"balanced deck + Roach\", graph = True)"
   ]
  },
  {
   "cell_type": "markdown",
   "metadata": {},
   "source": [
    "### Interpretation\n",
    "\n",
    "As a reminder, these were the numbers without the Roach:\n",
    "\n",
    "4 mulligans, balanced deck  \n",
    "average gain: 10.0094  \n",
    "average gain per mulligan: 2.50235  \n",
    "**average value after mulligans: 115.6445**  \n",
    "average value left in deck: 49.3555  \n",
    "\n",
    "\n",
    "1 mulligans, balanced deck  \n",
    "average gain: 2.5849  \n",
    "average gain per mulligan: 2.5849  \n",
    "**average value after mulligans: 108.2271**  \n",
    "average value left in deck: 56.7729  \n",
    "\n",
    "The averages with Roach being 108.9, and 116, this prices roach at around 10.4-10.7 provisions, depending on how many mulligans you have. Somewhat counterintuitively, the more mulligans you have access to, the less valuable Roach becomes. This is because you need to cut a 10 point card from your deck to find room for Roach, which means all of the times you mulligan a 4 later on, you're less likely to hit a powerful card, because there are less of them, and this outweighs the cost of needing to take your only mulligan round 1 on Roach if it's in your hand.\n",
    "\n",
    "### Extreme Decks Revisited\n",
    "\n",
    "Let's revisit our extreme decks from before though, does having Roach make the deck that doesn't gain much from mulligans more attractive?"
   ]
  },
  {
   "cell_type": "code",
   "execution_count": 67,
   "metadata": {},
   "outputs": [
    {
     "name": "stdout",
     "output_type": "stream",
     "text": [
      "Total Provisions: 165\n",
      "Deck Size: 25\n",
      "\n",
      "4 mulligans, low variance\n",
      "average gain: 5.6447\n",
      "average gain per mulligan: 1.411175\n",
      "average value after mulligans:108.9841\n",
      "average value left in deck: 51.6043\n",
      "\n",
      "1 mulligans, low variance\n",
      "average gain: 4.2738\n",
      "average gain per mulligan: 4.2738\n",
      "average value after mulligans:107.5946\n",
      "average value left in deck: 53.0134\n",
      "\n"
     ]
    },
    {
     "data": {
      "image/png": "[encoded data removed]",
      "text/plain": [
       "<matplotlib.figure.Figure at 0x2bfc3bb3e80>"
      ]
     },
     "metadata": {},
     "output_type": "display_data"
    }
   ],
   "source": [
    "deck = ([Card(6)] * 13) + ([Card(7)] * 11)  + ([Card(4, 10, True)] * 1)\n",
    "print(f\"Total Provisions: %s\" % sum([x.provisions for x in deck]))\n",
    "print(f\"Deck Size: %s\\n\" % len(deck))\n",
    "runExperiment(deck, 4, \"low variance\", graph=True)\n",
    "runExperiment(deck, 1, \"low variance\", graph=False)"
   ]
  },
  {
   "cell_type": "markdown",
   "metadata": {},
   "source": [
    "Well, slightly. If you recall from before, these were the numbers we got earlier:\n",
    "4 mulligans, low variance  \n",
    "average gain: 2.416  \n",
    "average gain per mulligan: 0.604  \n",
    "**average value after mulligans:108.0051**  \n",
    "average value left in deck: 56.9949  \n",
    "\n",
    "1 mulligans, low variance  \n",
    "average gain: 0.6033  \n",
    "average gain per mulligan: 0.6033  \n",
    "**average value after mulligans:106.1721**  \n",
    "average value left in deck: 58.8279  \n",
    "\n",
    "This deck gets a bit more value out of roach for the first mulligan than the regular decks, getting about 11.4 value"
   ]
  },
  {
   "cell_type": "code",
   "execution_count": null,
   "metadata": {},
   "outputs": [],
   "source": []
  },
  {
   "cell_type": "code",
   "execution_count": null,
   "metadata": {},
   "outputs": [],
   "source": []
  },
  {
   "cell_type": "code",
   "execution_count": null,
   "metadata": {
    "collapsed": true
   },
   "outputs": [],
   "source": []
  }
 ],
 "metadata": {
  "kernelspec": {
   "display_name": "Python 3",
   "language": "python",
   "name": "python3"
  },
  "language_info": {
   "codemirror_mode": {
    "name": "ipython",
    "version": 3
   },
   "file_extension": ".py",
   "mimetype": "text/x-python",
   "name": "python",
   "nbconvert_exporter": "python",
   "pygments_lexer": "ipython3",
   "version": "3.6.1"
  }
 },
 "nbformat": 4,
 "nbformat_minor": 2
}
