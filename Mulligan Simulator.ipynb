{
 "cells": [
  {
   "cell_type": "code",
   "execution_count": 1,
   "metadata": {
    "collapsed": true
   },
   "outputs": [],
   "source": [
    "import random"
   ]
  },
  {
   "cell_type": "code",
   "execution_count": 120,
   "metadata": {
    "collapsed": true
   },
   "outputs": [],
   "source": [
    "from matplotlib import pyplot as plt\n",
    "%matplotlib inline"
   ]
  },
  {
   "cell_type": "code",
   "execution_count": 122,
   "metadata": {
    "collapsed": true
   },
   "outputs": [],
   "source": [
    "import seaborn as sns"
   ]
  },
  {
   "cell_type": "code",
   "execution_count": 134,
   "metadata": {
    "collapsed": true
   },
   "outputs": [],
   "source": [
    "def drawHand(deck, cardsToDraw):\n",
    "    deck = deck[:]\n",
    "    hand = []\n",
    "    for card in range(cardsToDraw):\n",
    "        hand.append(deck.pop())\n",
    "    return (hand, deck)"
   ]
  },
  {
   "cell_type": "code",
   "execution_count": 135,
   "metadata": {
    "collapsed": true
   },
   "outputs": [],
   "source": [
    "def runMulliganTrial(deck, mulliganCount, cardsToDraw=16):\n",
    "    random.shuffle(deck)\n",
    "    hand, trialDeck = drawHand(deck, cardsToDraw)\n",
    "    handStrengthBefore = sum(hand)\n",
    "    mulls = []\n",
    "    for i in range(mulliganCount):\n",
    "        if (sum(deck) / len(deck)) > min(hand): #basic heuristic to not take bad EV mulligans\n",
    "            mulls.append(min(hand))\n",
    "            hand.remove(min(hand))\n",
    "            hand.append(trialDeck.pop())\n",
    "            \n",
    "    deckStrength = sum(trialDeck) + sum(mulls)\n",
    "    handStrengthAfter = sum(hand)\n",
    "    return (handStrengthBefore, handStrengthAfter, deckStrength)"
   ]
  },
  {
   "cell_type": "code",
   "execution_count": 136,
   "metadata": {
    "collapsed": true
   },
   "outputs": [],
   "source": [
    "def gatherSamples(deck, mulliganCount, sampleSize):\n",
    "    differences = []\n",
    "    afters = []\n",
    "    leftovers = []\n",
    "    for i in range(sampleSize):\n",
    "        before, after, deckStrength = runMulliganTrial(deck, mulliganCount)\n",
    "        afters.append(after)\n",
    "        differences.append(after - before)\n",
    "        leftovers.append(deckStrength)\n",
    "    return (differences, afters, leftovers)"
   ]
  },
  {
   "cell_type": "code",
   "execution_count": 151,
   "metadata": {
    "collapsed": true
   },
   "outputs": [],
   "source": [
    "def runExperiment(deck, numMulls, deckName, graph = False):\n",
    "    differences, afters, leftovers = gatherSamples(deck, numMulls, 10000)\n",
    "    \n",
    "    avgGain = sum(differences) / len(differences)\n",
    "    avgGainPerMull = avgGain / numMulls\n",
    "    avgStrength = sum(afters) / len(afters)\n",
    "    avgLeftovers = sum(leftovers) / len(leftovers)\n",
    "    print(f\"{numMulls} mulligans, {deckName}\")\n",
    "    print(f\"average gain: {avgGain}\")\n",
    "    print(f\"average gain per mulligan: {avgGainPerMull}\")\n",
    "    print(f\"average value after mulligans:{avgStrength}\")\n",
    "    if graph:\n",
    "        sns.countplot([int(x / 3) * 3 for x in afters])\n",
    "    print(f\"average value left in deck: {avgLeftovers}\")\n",
    "    print(\"\")"
   ]
  },
  {
   "cell_type": "code",
   "execution_count": 152,
   "metadata": {},
   "outputs": [
    {
     "name": "stdout",
     "output_type": "stream",
     "text": [
      "Total Provisions: 165\n",
      "Deck Size: 25\n",
      "\n",
      "4 mulligans, balanced deck\n",
      "average gain: 10.362\n",
      "average gain per mulligan: 2.5905\n",
      "average value after mulligans:116.0432\n",
      "average value left in deck: 48.9568\n",
      "\n",
      "3 mulligans, balanced deck\n",
      "average gain: 7.8242\n",
      "average gain per mulligan: 2.6080666666666668\n",
      "average value after mulligans:113.5407\n",
      "average value left in deck: 51.4593\n",
      "\n",
      "2 mulligans, balanced deck\n",
      "average gain: 5.1992\n",
      "average gain per mulligan: 2.5996\n",
      "average value after mulligans:110.8145\n",
      "average value left in deck: 54.1855\n",
      "\n",
      "1 mulligans, balanced deck\n",
      "average gain: 2.5751\n",
      "average gain per mulligan: 2.5751\n",
      "average value after mulligans:108.185\n",
      "average value left in deck: 56.815\n",
      "\n"
     ]
    },
    {
     "data": {
      "image/png": "[encoded data removed]",
      "text/plain": [
       "<matplotlib.figure.Figure at 0x16602263940>"
      ]
     },
     "metadata": {},
     "output_type": "display_data"
    }
   ],
   "source": [
    "deck1 = ([4] * 10) + ([7] * 7) + ([8] * 2) + ([10] * 6) \n",
    "print(f\"Total Provisions: %s\" % sum(deck1))\n",
    "print(f\"Deck Size: %s\\n\" % len(deck1))\n",
    "\n",
    "runExperiment(deck1, 4, \"balanced deck\", graph = True)\n",
    "runExperiment(deck1, 3, \"balanced deck\")\n",
    "runExperiment(deck1, 2, \"balanced deck\")\n",
    "runExperiment(deck1, 1, \"balanced deck\")"
   ]
  },
  {
   "cell_type": "code",
   "execution_count": 154,
   "metadata": {},
   "outputs": [
    {
     "name": "stdout",
     "output_type": "stream",
     "text": [
      "Total Provisions: 165\n",
      "Deck Size: 25\n",
      "\n",
      "4 mulligans, topheavy deck\n",
      "average gain: 10.4061\n",
      "average gain per mulligan: 2.601525\n",
      "average value after mulligans:115.9149\n",
      "average value left in deck: 49.0851\n",
      "\n",
      "3 mulligans, topheavy deck\n",
      "average gain: 7.7554\n",
      "average gain per mulligan: 2.5851333333333333\n",
      "average value after mulligans:113.3824\n",
      "average value left in deck: 51.6176\n",
      "\n",
      "2 mulligans, topheavy deck\n",
      "average gain: 5.1891\n",
      "average gain per mulligan: 2.59455\n",
      "average value after mulligans:110.7128\n",
      "average value left in deck: 54.2872\n",
      "\n",
      "1 mulligans, topheavy deck\n",
      "average gain: 2.6472\n",
      "average gain per mulligan: 2.6472\n",
      "average value after mulligans:108.2341\n",
      "average value left in deck: 56.7659\n",
      "\n"
     ]
    },
    {
     "data": {
      "image/png": "[encoded data removed]",
      "text/plain": [
       "<matplotlib.figure.Figure at 0x1660239c4a8>"
      ]
     },
     "metadata": {},
     "output_type": "display_data"
    }
   ],
   "source": [
    "deck2 = ([4] * 15) + ([10] * 7) + [11] +  ([12] * 2) \n",
    "print(f\"Total Provisions: %s\" % sum(deck2))\n",
    "print(f\"Deck Size: %s\\n\" % len(deck2))\n",
    "\n",
    "runExperiment(deck2, 4, \"topheavy deck\", graph=True)\n",
    "runExperiment(deck2, 3, \"topheavy deck\")\n",
    "runExperiment(deck2, 2, \"topheavy deck\")\n",
    "runExperiment(deck2, 1, \"topheavy deck\")"
   ]
  },
  {
   "cell_type": "code",
   "execution_count": null,
   "metadata": {
    "collapsed": true
   },
   "outputs": [],
   "source": []
  }
 ],
 "metadata": {
  "kernelspec": {
   "display_name": "Python 3",
   "language": "python",
   "name": "python3"
  },
  "language_info": {
   "codemirror_mode": {
    "name": "ipython",
    "version": 3
   },
   "file_extension": ".py",
   "mimetype": "text/x-python",
   "name": "python",
   "nbconvert_exporter": "python",
   "pygments_lexer": "ipython3",
   "version": "3.6.1"
  }
 },
 "nbformat": 4,
 "nbformat_minor": 2
}
